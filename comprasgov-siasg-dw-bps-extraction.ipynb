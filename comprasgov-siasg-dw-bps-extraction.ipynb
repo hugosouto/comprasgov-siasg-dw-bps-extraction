{
 "cells": [
  {
   "cell_type": "markdown",
   "metadata": {},
   "source": [
    "Here's a breakdown of what's happening:\n",
    "\n",
    "- **Import Libraries:** pandas is imported to manipulate data, and os to work with file names.\n",
    "\n",
    "- **Excel Files List:** A list xlsx_files contains the names of the Excel files you wish to merge.\n",
    "\n",
    "- **ExcelWriter Initialization:** pd.ExcelWriter('merged_file.xlsx') is used to create a new Excel file where all the data will be saved.\n",
    "\n",
    "- **File Loop:** Loop through each .xlsx file in the list.\n",
    "\n",
    "- **Read Excel File:** Each Excel file is read into a DataFrame using pd.read_excel().\n",
    "\n",
    "- **Sheet Name:** Extract the file name without the extension to use as the sheet name using os.path.splitext().\n",
    "\n",
    "- **Write to Excel:** Each DataFrame is written to the Excel writer object with its respective sheet name.\n",
    "\n",
    "- **Save File:** Once the loop is complete, the Excel writer object saves the file, which will contain each original .xlsx file as a separate sheet.\n",
    "\n"
   ]
  },
  {
   "cell_type": "code",
   "execution_count": 1,
   "metadata": {},
   "outputs": [
    {
     "name": "stderr",
     "output_type": "stream",
     "text": [
      "c:\\Users\\Hugo\\miniconda3\\envs\\comprasgov\\Lib\\site-packages\\openpyxl\\styles\\stylesheet.py:226: UserWarning: Workbook contains no default style, apply openpyxl's default\n",
      "  warn(\"Workbook contains no default style, apply openpyxl's default\")\n",
      "c:\\Users\\Hugo\\miniconda3\\envs\\comprasgov\\Lib\\site-packages\\openpyxl\\styles\\stylesheet.py:226: UserWarning: Workbook contains no default style, apply openpyxl's default\n",
      "  warn(\"Workbook contains no default style, apply openpyxl's default\")\n",
      "c:\\Users\\Hugo\\miniconda3\\envs\\comprasgov\\Lib\\site-packages\\openpyxl\\styles\\stylesheet.py:226: UserWarning: Workbook contains no default style, apply openpyxl's default\n",
      "  warn(\"Workbook contains no default style, apply openpyxl's default\")\n",
      "c:\\Users\\Hugo\\miniconda3\\envs\\comprasgov\\Lib\\site-packages\\openpyxl\\styles\\stylesheet.py:226: UserWarning: Workbook contains no default style, apply openpyxl's default\n",
      "  warn(\"Workbook contains no default style, apply openpyxl's default\")\n"
     ]
    }
   ],
   "source": [
    "import pandas as pd\n",
    "import os\n",
    "\n",
    "# Directory where the .xlsx files are located\n",
    "input_directory = 'data/'\n",
    "\n",
    "# Directory where the merged .xlsx file will be saved\n",
    "output_directory = 'output/'\n",
    "\n",
    "# Make sure the output directory exists\n",
    "os.makedirs(output_directory, exist_ok=True)\n",
    "\n",
    "# Output file name\n",
    "output_file_name = 'output.xlsx'\n",
    "output_file_path = os.path.join(output_directory, output_file_name)\n",
    "\n",
    "# Get the list of .xlsx files you want to merge from the data directory\n",
    "xlsx_files = [f for f in os.listdir(input_directory) if f.endswith('.xlsx')]\n",
    "\n",
    "# Initialize a Pandas Excel writer using ExcelWriter class\n",
    "with pd.ExcelWriter(output_file_path) as writer:\n",
    "\n",
    "    for xlsx_file in xlsx_files:\n",
    "        # Read each .xlsx file into a DataFrame\n",
    "        df = pd.read_excel(os.path.join(input_directory, xlsx_file))\n",
    "\n",
    "        # Get the name of the file without the extension\n",
    "        sheet_name = os.path.splitext(xlsx_file)[0]\n",
    "\n",
    "        # Write each DataFrame to the Excel writer object, specifying the sheet name\n",
    "        df.to_excel(writer, sheet_name=sheet_name, index=False)\n",
    "\n",
    "# The merged Excel file will be saved in the output/ folder with separate sheets for each original file."
   ]
  }
 ],
 "metadata": {
  "kernelspec": {
   "display_name": "base",
   "language": "python",
   "name": "python3"
  },
  "language_info": {
   "codemirror_mode": {
    "name": "ipython",
    "version": 3
   },
   "file_extension": ".py",
   "mimetype": "text/x-python",
   "name": "python",
   "nbconvert_exporter": "python",
   "pygments_lexer": "ipython3",
   "version": "3.11.5"
  }
 },
 "nbformat": 4,
 "nbformat_minor": 2
}
